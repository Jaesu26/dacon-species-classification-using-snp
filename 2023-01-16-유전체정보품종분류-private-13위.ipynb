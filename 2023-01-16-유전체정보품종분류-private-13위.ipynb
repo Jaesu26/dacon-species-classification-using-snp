{
 "cells": [
  {
   "cell_type": "markdown",
   "metadata": {
    "colab_type": "text",
    "id": "view-in-github"
   },
   "source": [
    "<a href=\"https://colab.research.google.com/github/Jaesu26/dacon-species-classification-using-snp/blob/main/2023-01-16-%EC%9C%A0%EC%A0%84%EC%B2%B4%EC%A0%95%EB%B3%B4-%ED%92%88%EC%A2%85-%EB%B6%84%EB%A5%98.ipynb\" target=\"_parent\"><img src=\"https://colab.research.google.com/assets/colab-badge.svg\" alt=\"Open In Colab\"/></a>"
   ]
  },
  {
   "cell_type": "markdown",
   "metadata": {
    "id": "75xRhMA-ZZ4g"
   },
   "source": [
    "# 유전체 정보 품종 분류 AI 경진대회"
   ]
  },
  {
   "cell_type": "code",
   "execution_count": 1,
   "metadata": {
    "colab": {
     "base_uri": "https://localhost:8080/"
    },
    "id": "LRRVLzAnccEJ",
    "outputId": "8c7fbed4-44c0-4716-8204-099b43b1845d"
   },
   "outputs": [
    {
     "name": "stdout",
     "output_type": "stream",
     "text": [
      "Looking in indexes: https://pypi.org/simple, https://us-python.pkg.dev/colab-wheels/public/simple/\n",
      "Collecting xgboost==1.7.2\n",
      "  Downloading xgboost-1.7.2-py3-none-manylinux2014_x86_64.whl (193.6 MB)\n",
      "\u001b[2K     \u001b[90m━━━━━━━━━━━━━━━━━━━━━━━━━━━━━━━━━━━━━━━\u001b[0m \u001b[32m193.6/193.6 MB\u001b[0m \u001b[31m5.4 MB/s\u001b[0m eta \u001b[36m0:00:00\u001b[0m\n",
      "\u001b[?25hRequirement already satisfied: numpy in /usr/local/lib/python3.8/dist-packages (from xgboost==1.7.2) (1.21.6)\n",
      "Requirement already satisfied: scipy in /usr/local/lib/python3.8/dist-packages (from xgboost==1.7.2) (1.7.3)\n",
      "Installing collected packages: xgboost\n",
      "  Attempting uninstall: xgboost\n",
      "    Found existing installation: xgboost 0.90\n",
      "    Uninstalling xgboost-0.90:\n",
      "      Successfully uninstalled xgboost-0.90\n",
      "Successfully installed xgboost-1.7.2\n",
      "Looking in indexes: https://pypi.org/simple, https://us-python.pkg.dev/colab-wheels/public/simple/\n",
      "Requirement already satisfied: lightgbm==2.2.3 in /usr/local/lib/python3.8/dist-packages (2.2.3)\n",
      "Requirement already satisfied: scikit-learn in /usr/local/lib/python3.8/dist-packages (from lightgbm==2.2.3) (1.0.2)\n",
      "Requirement already satisfied: numpy in /usr/local/lib/python3.8/dist-packages (from lightgbm==2.2.3) (1.21.6)\n",
      "Requirement already satisfied: scipy in /usr/local/lib/python3.8/dist-packages (from lightgbm==2.2.3) (1.7.3)\n",
      "Requirement already satisfied: threadpoolctl>=2.0.0 in /usr/local/lib/python3.8/dist-packages (from scikit-learn->lightgbm==2.2.3) (3.1.0)\n",
      "Requirement already satisfied: joblib>=0.11 in /usr/local/lib/python3.8/dist-packages (from scikit-learn->lightgbm==2.2.3) (1.2.0)\n",
      "Looking in indexes: https://pypi.org/simple, https://us-python.pkg.dev/colab-wheels/public/simple/\n",
      "Collecting catboost==1.1.1\n",
      "  Downloading catboost-1.1.1-cp38-none-manylinux1_x86_64.whl (76.6 MB)\n",
      "\u001b[2K     \u001b[90m━━━━━━━━━━━━━━━━━━━━━━━━━━━━━━━━━━━━━━━━\u001b[0m \u001b[32m76.6/76.6 MB\u001b[0m \u001b[31m12.2 MB/s\u001b[0m eta \u001b[36m0:00:00\u001b[0m\n",
      "\u001b[?25hRequirement already satisfied: six in /usr/local/lib/python3.8/dist-packages (from catboost==1.1.1) (1.15.0)\n",
      "Requirement already satisfied: pandas>=0.24.0 in /usr/local/lib/python3.8/dist-packages (from catboost==1.1.1) (1.3.5)\n",
      "Requirement already satisfied: plotly in /usr/local/lib/python3.8/dist-packages (from catboost==1.1.1) (5.5.0)\n",
      "Requirement already satisfied: graphviz in /usr/local/lib/python3.8/dist-packages (from catboost==1.1.1) (0.10.1)\n",
      "Requirement already satisfied: matplotlib in /usr/local/lib/python3.8/dist-packages (from catboost==1.1.1) (3.2.2)\n",
      "Requirement already satisfied: scipy in /usr/local/lib/python3.8/dist-packages (from catboost==1.1.1) (1.7.3)\n",
      "Requirement already satisfied: numpy>=1.16.0 in /usr/local/lib/python3.8/dist-packages (from catboost==1.1.1) (1.21.6)\n",
      "Requirement already satisfied: pytz>=2017.3 in /usr/local/lib/python3.8/dist-packages (from pandas>=0.24.0->catboost==1.1.1) (2022.7)\n",
      "Requirement already satisfied: python-dateutil>=2.7.3 in /usr/local/lib/python3.8/dist-packages (from pandas>=0.24.0->catboost==1.1.1) (2.8.2)\n",
      "Requirement already satisfied: pyparsing!=2.0.4,!=2.1.2,!=2.1.6,>=2.0.1 in /usr/local/lib/python3.8/dist-packages (from matplotlib->catboost==1.1.1) (3.0.9)\n",
      "Requirement already satisfied: kiwisolver>=1.0.1 in /usr/local/lib/python3.8/dist-packages (from matplotlib->catboost==1.1.1) (1.4.4)\n",
      "Requirement already satisfied: cycler>=0.10 in /usr/local/lib/python3.8/dist-packages (from matplotlib->catboost==1.1.1) (0.11.0)\n",
      "Requirement already satisfied: tenacity>=6.2.0 in /usr/local/lib/python3.8/dist-packages (from plotly->catboost==1.1.1) (8.1.0)\n",
      "Installing collected packages: catboost\n",
      "Successfully installed catboost-1.1.1\n",
      "Looking in indexes: https://pypi.org/simple, https://us-python.pkg.dev/colab-wheels/public/simple/\n",
      "Requirement already satisfied: scikit-learn==1.0.2 in /usr/local/lib/python3.8/dist-packages (1.0.2)\n",
      "Requirement already satisfied: threadpoolctl>=2.0.0 in /usr/local/lib/python3.8/dist-packages (from scikit-learn==1.0.2) (3.1.0)\n",
      "Requirement already satisfied: scipy>=1.1.0 in /usr/local/lib/python3.8/dist-packages (from scikit-learn==1.0.2) (1.7.3)\n",
      "Requirement already satisfied: numpy>=1.14.6 in /usr/local/lib/python3.8/dist-packages (from scikit-learn==1.0.2) (1.21.6)\n",
      "Requirement already satisfied: joblib>=0.11 in /usr/local/lib/python3.8/dist-packages (from scikit-learn==1.0.2) (1.2.0)\n"
     ]
    }
   ],
   "source": [
    "!pip install xgboost==1.7.2\n",
    "!pip install lightgbm==2.2.3\n",
    "!pip install catboost==1.1.1\n",
    "!pip install scikit-learn==1.0.2"
   ]
  },
  {
   "cell_type": "markdown",
   "metadata": {
    "id": "68xM6jF0ZchA"
   },
   "source": [
    "## 데이터 불러오기"
   ]
  },
  {
   "cell_type": "code",
   "execution_count": 76,
   "metadata": {
    "id": "zJnLWFhmMGG4"
   },
   "outputs": [],
   "source": [
    "import numpy as np\n",
    "import pandas as pd\n",
    "import seaborn as sns\n",
    "import matplotlib.pyplot as plt\n",
    "import warnings\n",
    "import random\n",
    "import os\n",
    "\n",
    "from abc import ABC, abstractmethod\n",
    "from typing import List, Tuple, Any, Literal\n",
    "from numpy.typing import NDArray\n",
    "from dataclasses import dataclass\n",
    "from tqdm.auto import tqdm\n",
    "\n",
    "warnings.filterwarnings('ignore') "
   ]
  },
  {
   "cell_type": "code",
   "execution_count": 3,
   "metadata": {
    "colab": {
     "base_uri": "https://localhost:8080/"
    },
    "id": "GjvmmVOVMW_P",
    "outputId": "cbb6d5f9-b5bd-494a-bc28-116101678b6f"
   },
   "outputs": [
    {
     "name": "stdout",
     "output_type": "stream",
     "text": [
      "Mounted at /content/drive\n"
     ]
    }
   ],
   "source": [
    "import google.colab\n",
    "\n",
    "google.colab.drive.mount('/content/drive')  # 코랩과 구글드라이브 연결"
   ]
  },
  {
   "cell_type": "code",
   "execution_count": 4,
   "metadata": {
    "colab": {
     "base_uri": "https://localhost:8080/"
    },
    "id": "eVxuuFzhM72P",
    "outputId": "1f4b2ae6-eb1d-443e-b5d8-82e307142e76"
   },
   "outputs": [
    {
     "name": "stdout",
     "output_type": "stream",
     "text": [
      "/content/drive/MyDrive/Colab Notebooks/유전체정보-품종-분류\n"
     ]
    }
   ],
   "source": [
    "%cd  /content/drive/MyDrive/Colab Notebooks/유전체정보-품종-분류"
   ]
  },
  {
   "cell_type": "markdown",
   "metadata": {
    "id": "MRrJ4A5RKC4B"
   },
   "source": [
    "- 데이터 불러오기"
   ]
  },
  {
   "cell_type": "code",
   "execution_count": 5,
   "metadata": {
    "id": "N7JdJZofCXED"
   },
   "outputs": [],
   "source": [
    "train_path = './data/train.csv'\n",
    "test_path = './data/test.csv'\n",
    "submission_path = './data/sample_submission.csv'"
   ]
  },
  {
   "cell_type": "code",
   "execution_count": 6,
   "metadata": {
    "id": "dl5XJ4wb7joA"
   },
   "outputs": [],
   "source": [
    "df = pd.read_csv(train_path)\n",
    "test = pd.read_csv(test_path)\n",
    "submission = pd.read_csv(submission_path)"
   ]
  },
  {
   "cell_type": "code",
   "execution_count": 7,
   "metadata": {
    "id": "EFjY-8Ok5iVB"
   },
   "outputs": [],
   "source": [
    "df['trait'] = df['trait'].map({1:0, 2:1})\n",
    "test['trait'] = test['trait'].map({1:0, 2:1})"
   ]
  },
  {
   "cell_type": "markdown",
   "metadata": {
    "id": "ohcBr4o45lF5"
   },
   "source": [
    "- 무의미한 변수 제거"
   ]
  },
  {
   "cell_type": "code",
   "execution_count": 8,
   "metadata": {
    "id": "5mhTcdXp5eiK"
   },
   "outputs": [],
   "source": [
    "df = df.drop(['id', 'father', 'mother', 'gender'], axis=1)\n",
    "test = test.drop(['id', 'father', 'mother', 'gender'], axis=1)"
   ]
  },
  {
   "cell_type": "markdown",
   "metadata": {
    "id": "EExC90luOAWs"
   },
   "source": [
    "## 시각화"
   ]
  },
  {
   "cell_type": "markdown",
   "metadata": {
    "id": "odIgoIMcc8L9"
   },
   "source": [
    "`-` SNP 정보는 `AA`, `AC`, `AG`, `CC`, `GG` 총 5가지 경우가 존재"
   ]
  },
  {
   "cell_type": "code",
   "execution_count": 10,
   "metadata": {
    "colab": {
     "base_uri": "https://localhost:8080/",
     "height": 297
    },
    "id": "YToX-XuOZ7CG",
    "outputId": "5759cf12-5f75-4b6d-9a05-79fd058acf90"
   },
   "outputs": [
    {
     "data": {
      "text/plain": [
       "<matplotlib.axes._subplots.AxesSubplot at 0x7f7aa8ee7460>"
      ]
     },
     "execution_count": 10,
     "metadata": {},
     "output_type": "execute_result"
    },
    {
     "data": {
      "image/png": "[encoded data removed]",
      "text/plain": [
       "<Figure size 432x288 with 1 Axes>"
      ]
     },
     "metadata": {
      "needs_background": "light"
     },
     "output_type": "display_data"
    }
   ],
   "source": [
    "sns.countplot(df['class'])"
   ]
  },
  {
   "cell_type": "code",
   "execution_count": 11,
   "metadata": {
    "colab": {
     "base_uri": "https://localhost:8080/",
     "height": 298
    },
    "id": "k5iMMwYqdPD-",
    "outputId": "17930f8f-2c6b-4a24-a02c-80e4198932ac"
   },
   "outputs": [
    {
     "data": {
      "text/plain": [
       "<matplotlib.axes._subplots.AxesSubplot at 0x7f7aa8e217c0>"
      ]
     },
     "execution_count": 11,
     "metadata": {},
     "output_type": "execute_result"
    },
    {
     "data": {
      "image/png": "[encoded data removed]",
      "text/plain": [
       "<Figure size 432x288 with 1 Axes>"
      ]
     },
     "metadata": {
      "needs_background": "light"
     },
     "output_type": "display_data"
    }
   ],
   "source": [
    "sns.countplot(df['trait'])"
   ]
  },
  {
   "cell_type": "markdown",
   "metadata": {
    "id": "2ILLhXWIOCUc"
   },
   "source": [
    "`-` `trait`이 1이면 `A`이다"
   ]
  },
  {
   "cell_type": "markdown",
   "metadata": {
    "id": "h2rTVCLibn9-"
   },
   "source": [
    "## 훈련"
   ]
  },
  {
   "cell_type": "code",
   "execution_count": 9,
   "metadata": {
    "id": "d11YPTcKNBO3"
   },
   "outputs": [],
   "source": [
    "from scipy import stats\n",
    "from imblearn.over_sampling import SMOTEN\n",
    "\n",
    "from sklearn.preprocessing import LabelEncoder, OneHotEncoder\n",
    "from sklearn.model_selection import StratifiedKFold\n",
    "\n",
    "from sklearn.metrics import f1_score\n",
    "\n",
    "from sklearn.linear_model import LogisticRegression, RidgeClassifier, SGDClassifier\n",
    "from sklearn.svm import LinearSVC\n",
    "\n",
    "from xgboost import XGBClassifier\n",
    "from lightgbm import LGBMClassifier\n",
    "from catboost import CatBoostClassifier"
   ]
  },
  {
   "cell_type": "code",
   "execution_count": 10,
   "metadata": {
    "id": "IhuNHTrH90Y5"
   },
   "outputs": [],
   "source": [
    "def seed_everything(seed: int = 23) -> None:\n",
    "    random.seed(seed)\n",
    "    os.environ['PYTHONHASHSEED'] = str(seed)\n",
    "    np.random.seed(seed)"
   ]
  },
  {
   "cell_type": "markdown",
   "metadata": {
    "id": "YQwdem4_Yo_O"
   },
   "source": [
    "- 전처리"
   ]
  },
  {
   "cell_type": "code",
   "execution_count": 11,
   "metadata": {
    "id": "nGc7FwnsiZp0"
   },
   "outputs": [],
   "source": [
    "df['class'] = df['class'].map({'A':0, 'B':1, 'C':2})"
   ]
  },
  {
   "cell_type": "code",
   "execution_count": 12,
   "metadata": {
    "id": "qWnEVwX9irZd"
   },
   "outputs": [],
   "source": [
    "target = df.pop('class')"
   ]
  },
  {
   "cell_type": "markdown",
   "metadata": {
    "id": "H9YdTAjEXTu4"
   },
   "source": [
    "- 라벨 인코딩, 원핫 인코딩"
   ]
  },
  {
   "cell_type": "code",
   "execution_count": 13,
   "metadata": {
    "id": "jhetu-11W65I"
   },
   "outputs": [],
   "source": [
    "def label_encoding(train_data: pd.DataFrame, test_data: pd.DataFrame) -> Tuple[pd.DataFrame, pd.DataFrame]:\n",
    "    train_data, test_data = train_data.copy(), test_data.copy()\n",
    "    categorical_columns = train_data.columns[train_data.dtypes == 'object']\n",
    "    label_encoder = LabelEncoder()\n",
    "\n",
    "    for col in categorical_columns:\n",
    "        train_data[col] = label_encoder.fit_transform(train_data[col])\n",
    "        test_data[col] = label_encoder.transform(test_data[col])\n",
    "        \n",
    "    return train_data, test_data"
   ]
  },
  {
   "cell_type": "code",
   "execution_count": 14,
   "metadata": {
    "id": "amZAQ-nnSk2n"
   },
   "outputs": [],
   "source": [
    "def onehot_encoding(train_data: pd.DataFrame, test_data: pd.DataFrame) -> Tuple[pd.DataFrame, pd.DataFrame]:\n",
    "    train_data, test_data = train_data.copy(), test_data.copy()\n",
    "    categorical_columns = train_data.columns[train_data.dtypes == 'object']\n",
    "    onehot_encoder = OneHotEncoder(sparse=False)\n",
    "    \n",
    "    for col in categorical_columns:\n",
    "        onehot_encoder.fit(train_data[[col]])\n",
    "        columns = col + onehot_encoder.categories_[0]\n",
    "        train_data = pd.concat([train_data, pd.DataFrame(onehot_encoder.transform(train_data[[col]]), columns=columns)], axis=1)\n",
    "        test_data = pd.concat([test_data, pd.DataFrame(onehot_encoder.transform(test_data[[col]]), columns=columns)], axis=1)\n",
    "\n",
    "    train_data = train_data.drop(categorical_columns, axis=1)\n",
    "    test_data = test_data.drop(categorical_columns, axis=1)\n",
    "    return train_data, test_data"
   ]
  },
  {
   "cell_type": "code",
   "execution_count": 75,
   "metadata": {
    "id": "RcQn6pzorrlh"
   },
   "outputs": [],
   "source": [
    "def encoding(\n",
    "    train_data: pd.DataFrame, \n",
    "    test_data: pd.DataFrame, \n",
    "    encoding_type: Literal['label', 'onehot']\n",
    ") -> Tuple[pd.DataFrame,  pd.DataFrame]:\n",
    "    func_mapping = {'label':label_encoding, 'onehot':onehot_encoding}\n",
    "    assert encoding_type in func_mapping\n",
    "\n",
    "    return func_mapping[encoding_type](train_data, test_data)"
   ]
  },
  {
   "cell_type": "markdown",
   "metadata": {
    "id": "QQhXmv_2Z6xR"
   },
   "source": [
    "- 함수 정의"
   ]
  },
  {
   "cell_type": "markdown",
   "metadata": {
    "id": "F3xpXv60lwPr"
   },
   "source": [
    "`-` ref: https://github.com/Lightning-AI/lightning/blob/master/examples/pl_loops/kfold.py"
   ]
  },
  {
   "cell_type": "code",
   "execution_count": 16,
   "metadata": {
    "id": "L-hs_YfkxRbJ"
   },
   "outputs": [],
   "source": [
    "@dataclass\n",
    "class KFoldDataset:\n",
    "    X: pd.DataFrame\n",
    "    y: pd.Series\n",
    "    X_predict: pd.DataFrame\n",
    "    encoding_type: Literal['label', 'onehot'] = 'onehot'\n",
    "    oversampling: bool = False\n",
    "    seed: int = 23\n",
    "\n",
    "    def setup(self) -> None:\n",
    "        self.X, self.X_predict = encoding(self.X, self.X_predict, self.encoding_type)\n",
    "\n",
    "    def setup_folds(self, num_folds: int) -> None:\n",
    "        kfold = StratifiedKFold(num_folds, shuffle=True, random_state=self.seed)\n",
    "        self.splits = [split for split in kfold.split(self.X, self.y)]\n",
    "\n",
    "    def setup_fold_index(self, fold_index: int) -> None:\n",
    "        train_indices, val_indices = self.splits[fold_index]\n",
    "        self.X_train, self.y_train = self.X.iloc[train_indices], self.y.iloc[train_indices]\n",
    "        self.X_val, self.y_val = self.X.iloc[val_indices], self.y.iloc[val_indices]\n",
    "\n",
    "    def setup_fold_end(self) -> None:\n",
    "        if self.oversampling:\n",
    "            smote = SMOTEN(random_state=self.seed)\n",
    "            self.X_train, self.y_train = smote.fit_resample(self.X_train, self.y_train)\n",
    "\n",
    "    def train_data(self) -> Tuple[pd.DataFrame, pd.Series]:\n",
    "        return self.X_train, self.y_train\n",
    "\n",
    "    def val_data(self) -> Tuple[pd.DataFrame, pd.Series]:\n",
    "        return self.X_val, self.y_val\n",
    "\n",
    "    def predict_data(self) -> pd.DataFrame:\n",
    "        return self.X_predict"
   ]
  },
  {
   "cell_type": "code",
   "execution_count": 17,
   "metadata": {
    "id": "RJrsF3Duv73d"
   },
   "outputs": [],
   "source": [
    "@dataclass\n",
    "class SklearnModel(ABC):\n",
    "    def __post_init__(self) -> None:\n",
    "        self.model = self.init_model()\n",
    "\n",
    "    @abstractmethod\n",
    "    def init_model(self) -> Any:\n",
    "        pass \n",
    "\n",
    "    def training_step(self, train_data: Any, val_data: Any) -> None:\n",
    "        X_train, y_train = train_data\n",
    "        self.model.fit(X_train, y_train)\n",
    "\n",
    "    def validation_step(self, val_data: Any) -> float:\n",
    "        X_val, y_val = val_data\n",
    "        eval_result = f1_score(y_val, self.model.predict(X_val), average='macro')\n",
    "        print(f'Best Macro F1 : {eval_result:.4f}', end='\\n'*2)\n",
    "        return eval_result\n",
    "\n",
    "    def predict_step(self, predict_data: Any) -> NDArray[Any]:\n",
    "        X_predict = predict_data\n",
    "        pred = self.model.predict(X_predict)\n",
    "        return pred"
   ]
  },
  {
   "cell_type": "code",
   "execution_count": 18,
   "metadata": {
    "id": "cNfcK7cbAHmp"
   },
   "outputs": [],
   "source": [
    "@dataclass\n",
    "class KFoldLoop:\n",
    "    num_folds: int\n",
    "\n",
    "    @property\n",
    "    def done(self) -> bool:\n",
    "        return self.current_fold >= self.num_folds\n",
    "\n",
    "    def on_run_start(self) -> None:\n",
    "        self.current_fold = 0\n",
    "        self.trainer.dataset.setup()\n",
    "        self.trainer.dataset.setup_folds(self.num_folds)\n",
    "\n",
    "    def on_advance_start(self) -> None:\n",
    "        self.trainer.dataset.setup_fold_index(self.current_fold)\n",
    "        self.trainer.dataset.setup_fold_end()\n",
    "        print(f'[{self.current_fold + 1} / {self.num_folds}] Fold Training......')\n",
    "\n",
    "    def advance(self) -> None:\n",
    "        train_data, val_data = self.trainer.dataset.train_data(), self.trainer.dataset.val_data()\n",
    "        predict_data = self.trainer.dataset.predict_data()\n",
    "        self.trainer.model.training_step(train_data, val_data)\n",
    "        eval_result = self.trainer.model.validation_step(val_data)\n",
    "        self.trainer.best_scores.append(eval_result)\n",
    "        pred = self.trainer.model.predict_step(predict_data)\n",
    "        self.trainer.preds.append(pred)\n",
    "\n",
    "    def on_advance_end(self) -> None:\n",
    "        self.current_fold += 1\n",
    "\n",
    "    def on_run_end(self) -> None:\n",
    "        print(f'{self.num_folds} Fold Mean Macro F1 : {np.mean(self.trainer.best_scores):.4f}', end='\\n'*2)\n",
    "\n",
    "    def run(self) -> None:\n",
    "        self.on_run_start()\n",
    "        while not self.done:\n",
    "            self.on_advance_start()\n",
    "            self.advance()\n",
    "            self.on_advance_end()\n",
    "        self.on_run_end()"
   ]
  },
  {
   "cell_type": "code",
   "execution_count": 19,
   "metadata": {
    "id": "qqEpgbtTxTFp"
   },
   "outputs": [],
   "source": [
    "@dataclass\n",
    "class Trainer:\n",
    "    num_folds: int = 5\n",
    "\n",
    "    def cross_val_predict(self, model: Any, dataset: KFoldDataset) -> List[NDArray[Any]]:\n",
    "        self.fit_loop = KFoldLoop(self.num_folds)\n",
    "        self.fit_loop.trainer = self\n",
    "        self.model, self.dataset = model, dataset\n",
    "        self.best_scores, self.preds = [], []\n",
    "        self.fit_loop.run()\n",
    "        return self.preds"
   ]
  },
  {
   "cell_type": "markdown",
   "metadata": {
    "id": "zPVVXoS9KBj_"
   },
   "source": [
    "`-` seed에 따라 다르다\n",
    "\n",
    "`-` 오버샘플링 유무에 따라 다르다\n",
    "\n",
    "`-` 인코딩 타입에 따라 다르다"
   ]
  },
  {
   "cell_type": "code",
   "execution_count": 20,
   "metadata": {
    "id": "lIn5uAQA6nnW"
   },
   "outputs": [],
   "source": [
    "def seed_ensemble(\n",
    "    trainer: Trainer, \n",
    "    model: Any, \n",
    "    dataset: KFoldDataset, \n",
    "    seeds: List[int]\n",
    ") -> Tuple[NDArray[np.float], NDArray[Any]]:\n",
    "    preds = []\n",
    "    best_scores = []\n",
    "    for seed in seeds:\n",
    "        print(f'########## Seed Number {seed} ##########', end='\\n'*2)\n",
    "        seed_everything(seed)\n",
    "        dataset.seed = seed\n",
    "        pred = trainer.cross_val_predict(model, dataset)\n",
    "        preds.append(np.stack(pred, axis=-1))\n",
    "        best_scores.extend(trainer.best_scores)\n",
    "\n",
    "    google.colab.output.clear()\n",
    "    print(f'Seed Ensemble Output -> Mean: {np.mean(best_scores):.4f}  Std: {np.std(best_scores, ddof=1):.4f}')\n",
    "    return best_scores, np.concatenate(preds, axis=-1)"
   ]
  },
  {
   "cell_type": "code",
   "execution_count": 96,
   "metadata": {
    "id": "NTw1w9JKCf2P"
   },
   "outputs": [],
   "source": [
    "def compare_preprocessing(\n",
    "    trainer: Trainer, \n",
    "    model: Any, \n",
    "    X: pd.DataFrame, \n",
    "    y: pd.Series, \n",
    "    seeds: List[int]\n",
    ") -> None:\n",
    "    results = {}\n",
    "    for encoding_type in ['label', 'onehot']:\n",
    "        for oversampling in [False, True]:\n",
    "            print(f'Start {encoding_type} encoding and {oversampling} oversamping', end='\\n'*2)\n",
    "            dataset = KFoldDataset(X, y, X, encoding_type, oversampling)\n",
    "            best_scores, _ = seed_ensemble(trainer, model, dataset, seeds)\n",
    "            results[f'{encoding_type}-encoding  {oversampling}-oversamping'] = best_scores\n",
    "\n",
    "    google.colab.output.clear()\n",
    "    for key, value in results.items():\n",
    "        print(f'Type: {key:>34}  Mean: {np.mean(value):.4f}, Std: {np.std(value, ddof=1):.4f}')"
   ]
  },
  {
   "cell_type": "code",
   "execution_count": 97,
   "metadata": {
    "id": "HYe5Hdc0Wy8t"
   },
   "outputs": [],
   "source": [
    "SEED = 23\n",
    "seeds = [SEED * n for n in range(30)]\n",
    "num_folds = 5\n",
    "trainer = Trainer(num_folds)"
   ]
  },
  {
   "cell_type": "markdown",
   "metadata": {
    "id": "7ynho94L4wF0"
   },
   "source": [
    "### 전처리 비교 "
   ]
  },
  {
   "cell_type": "markdown",
   "metadata": {
    "id": "mWVyY7YZXFq8"
   },
   "source": [
    "- LinearSVC"
   ]
  },
  {
   "cell_type": "code",
   "execution_count": 98,
   "metadata": {
    "id": "g-Q9VSubWt9F"
   },
   "outputs": [],
   "source": [
    "class LinearSVCModel(SklearnModel):\n",
    "    def init_model(self) -> Any: \n",
    "        return LinearSVC(C=1.0, random_state=SEED)"
   ]
  },
  {
   "cell_type": "code",
   "execution_count": 99,
   "metadata": {
    "id": "-BaQUIdXyrP5"
   },
   "outputs": [],
   "source": [
    "linear_svc = LinearSVCModel()"
   ]
  },
  {
   "cell_type": "code",
   "execution_count": 25,
   "metadata": {
    "colab": {
     "base_uri": "https://localhost:8080/"
    },
    "id": "_qnD_g2haim0",
    "outputId": "6aa171f9-6981-4d70-eb75-52c4c9ab4dea"
   },
   "outputs": [
    {
     "name": "stdout",
     "output_type": "stream",
     "text": [
      "Type:  label-encoding  False-oversamping  Mean: 0.9607, Std: 0.0244\n",
      "Type:   label-encoding  True-oversamping  Mean: 0.9584, Std: 0.0265\n",
      "Type: onehot-encoding  False-oversamping  Mean: 0.9354, Std: 0.0325\n",
      "Type:  onehot-encoding  True-oversamping  Mean: 0.9355, Std: 0.0316\n",
      "CPU times: user 39.7 s, sys: 698 ms, total: 40.4 s\n",
      "Wall time: 50.4 s\n"
     ]
    }
   ],
   "source": [
    "%%time\n",
    "compare_preprocessing(trainer, linear_svc, df, target, seeds)"
   ]
  },
  {
   "cell_type": "markdown",
   "metadata": {
    "id": "LjAi99z15tez"
   },
   "source": [
    "- LogisticRegression"
   ]
  },
  {
   "cell_type": "code",
   "execution_count": 26,
   "metadata": {
    "id": "inaeqJCv5uGi"
   },
   "outputs": [],
   "source": [
    "class LogisticModel(SklearnModel):\n",
    "    def init_model(self) -> Any:\n",
    "        return LogisticRegression(C=1.0, random_state=SEED)"
   ]
  },
  {
   "cell_type": "code",
   "execution_count": 27,
   "metadata": {
    "id": "7ODSt-Pw5vvy"
   },
   "outputs": [],
   "source": [
    "logistic = LogisticModel()"
   ]
  },
  {
   "cell_type": "code",
   "execution_count": 28,
   "metadata": {
    "colab": {
     "base_uri": "https://localhost:8080/"
    },
    "id": "keitAcK-akpc",
    "outputId": "437dcbd6-6f3a-4050-aed1-5c763ffd70b6"
   },
   "outputs": [
    {
     "name": "stdout",
     "output_type": "stream",
     "text": [
      "Type:  label-encoding  False-oversamping  Mean: 0.9606, Std: 0.0235\n",
      "Type:   label-encoding  True-oversamping  Mean: 0.9572, Std: 0.0248\n",
      "Type: onehot-encoding  False-oversamping  Mean: 0.9455, Std: 0.0285\n",
      "Type:  onehot-encoding  True-oversamping  Mean: 0.9480, Std: 0.0280\n",
      "CPU times: user 47.6 s, sys: 905 ms, total: 48.5 s\n",
      "Wall time: 50.8 s\n"
     ]
    }
   ],
   "source": [
    "%%time\n",
    "compare_preprocessing(trainer, logistic, df, target, seeds)"
   ]
  },
  {
   "cell_type": "markdown",
   "metadata": {
    "id": "MhxCGhspptv-"
   },
   "source": [
    "- RidgeClassifier"
   ]
  },
  {
   "cell_type": "code",
   "execution_count": 29,
   "metadata": {
    "id": "8tdRAVp-U7Pz"
   },
   "outputs": [],
   "source": [
    "class RidgeModel(SklearnModel):\n",
    "    def init_model(self) -> Any:\n",
    "        return RidgeClassifier(alpha=0.1, random_state=SEED)"
   ]
  },
  {
   "cell_type": "code",
   "execution_count": 30,
   "metadata": {
    "id": "2Bt7vYedyzDZ"
   },
   "outputs": [],
   "source": [
    "ridge = RidgeModel()"
   ]
  },
  {
   "cell_type": "code",
   "execution_count": 31,
   "metadata": {
    "colab": {
     "base_uri": "https://localhost:8080/"
    },
    "id": "BaE6yLMpal77",
    "outputId": "859335cc-e120-4fdc-d446-2c6eba3d264e"
   },
   "outputs": [
    {
     "name": "stdout",
     "output_type": "stream",
     "text": [
      "Type:  label-encoding  False-oversamping  Mean: 0.9574, Std: 0.0241\n",
      "Type:   label-encoding  True-oversamping  Mean: 0.9554, Std: 0.0237\n",
      "Type: onehot-encoding  False-oversamping  Mean: 0.9492, Std: 0.0269\n",
      "Type:  onehot-encoding  True-oversamping  Mean: 0.9518, Std: 0.0252\n",
      "CPU times: user 31.4 s, sys: 973 ms, total: 32.3 s\n",
      "Wall time: 32 s\n"
     ]
    }
   ],
   "source": [
    "%%time\n",
    "compare_preprocessing(trainer, ridge, df, target, seeds)"
   ]
  },
  {
   "cell_type": "markdown",
   "metadata": {
    "id": "h2tGsV82nSBe"
   },
   "source": [
    "- SGDClassifier"
   ]
  },
  {
   "cell_type": "code",
   "execution_count": 32,
   "metadata": {
    "id": "FnbB9CmWmzcf"
   },
   "outputs": [],
   "source": [
    "class SGDModel(SklearnModel):\n",
    "    def init_model(self) -> Any:\n",
    "        return SGDClassifier(alpha=0.1, random_state=SEED)"
   ]
  },
  {
   "cell_type": "code",
   "execution_count": 33,
   "metadata": {
    "id": "pB9g2jB7y1L5"
   },
   "outputs": [],
   "source": [
    "sgd = SGDModel()"
   ]
  },
  {
   "cell_type": "code",
   "execution_count": 34,
   "metadata": {
    "colab": {
     "base_uri": "https://localhost:8080/"
    },
    "id": "x0Ur5tiBanXT",
    "outputId": "d83deeca-8585-4073-baad-8bbdc86ae04f"
   },
   "outputs": [
    {
     "name": "stdout",
     "output_type": "stream",
     "text": [
      "Type:  label-encoding  False-oversamping  Mean: 0.9457, Std: 0.0262\n",
      "Type:   label-encoding  True-oversamping  Mean: 0.9466, Std: 0.0261\n",
      "Type: onehot-encoding  False-oversamping  Mean: 0.9553, Std: 0.0249\n",
      "Type:  onehot-encoding  True-oversamping  Mean: 0.9540, Std: 0.0255\n",
      "CPU times: user 31.9 s, sys: 984 ms, total: 32.9 s\n",
      "Wall time: 32.3 s\n"
     ]
    }
   ],
   "source": [
    "%%time\n",
    "compare_preprocessing(trainer, sgd, df, target, seeds)"
   ]
  },
  {
   "cell_type": "markdown",
   "metadata": {
    "id": "We_YvKF6c8p_"
   },
   "source": [
    "- XGBClassifier"
   ]
  },
  {
   "cell_type": "code",
   "execution_count": 35,
   "metadata": {
    "id": "_8qD0JM0uLhY"
   },
   "outputs": [],
   "source": [
    "def xgb_macro_f1(y_true, y_pred):\n",
    "    return -1 * f1_score(y_true, y_pred, average='macro')"
   ]
  },
  {
   "cell_type": "code",
   "execution_count": 36,
   "metadata": {
    "id": "rMt7X85cV1Mr"
   },
   "outputs": [],
   "source": [
    "class XGBoostModel(SklearnModel):\n",
    "    def init_model(self) -> Any:\n",
    "        params = {\n",
    "            'n_estimators': 1000,\n",
    "            'learning_rate': 0.05,\n",
    "            'max_depth': 3,\n",
    "            'objective': 'multi:softmax',\n",
    "            'eval_metric': xgb_macro_f1,\n",
    "            'random_state': SEED,\n",
    "        }\n",
    "        return XGBClassifier(**params)\n",
    "\n",
    "    def training_step(self, train_data: Any, val_data: Any) -> None:\n",
    "        X_train, y_train = train_data\n",
    "        X_val, y_val = val_data\n",
    "        self.model.fit(X_train, y_train, early_stopping_rounds=100, verbose=0, eval_set=[(X_val, y_val)])"
   ]
  },
  {
   "cell_type": "code",
   "execution_count": 37,
   "metadata": {
    "id": "duMoHBN-y4Oq"
   },
   "outputs": [],
   "source": [
    "xgboost = XGBoostModel()"
   ]
  },
  {
   "cell_type": "code",
   "execution_count": 38,
   "metadata": {
    "colab": {
     "base_uri": "https://localhost:8080/"
    },
    "id": "tdQkg-Kgarb9",
    "outputId": "6ca24cdb-db01-4e4b-cead-f3b21a32d959"
   },
   "outputs": [
    {
     "name": "stdout",
     "output_type": "stream",
     "text": [
      "Type:  label-encoding  False-oversamping  Mean: 0.9567, Std: 0.0261\n",
      "Type:   label-encoding  True-oversamping  Mean: 0.9530, Std: 0.0267\n",
      "Type: onehot-encoding  False-oversamping  Mean: 0.9560, Std: 0.0279\n",
      "Type:  onehot-encoding  True-oversamping  Mean: 0.9548, Std: 0.0263\n",
      "CPU times: user 8min 37s, sys: 9.18 s, total: 8min 46s\n",
      "Wall time: 4min 47s\n"
     ]
    }
   ],
   "source": [
    "%%time\n",
    "compare_preprocessing(trainer, xgboost, df, target, seeds)"
   ]
  },
  {
   "cell_type": "markdown",
   "metadata": {
    "id": "0Hds0PHPc74W"
   },
   "source": [
    "- CatBoostClassifier"
   ]
  },
  {
   "cell_type": "code",
   "execution_count": 39,
   "metadata": {
    "id": "wj9lpE-MdBS1"
   },
   "outputs": [],
   "source": [
    "class CatBoostModel(SklearnModel):\n",
    "    def init_model(self) -> Any:\n",
    "        params = {\n",
    "            'n_estimators': 1000,\n",
    "            'learning_rate': 0.05,\n",
    "            'max_depth': 2,\n",
    "            'objective': 'MultiClass',\n",
    "            'random_state': SEED,\n",
    "            'verbose': 0,\n",
    "            'eval_metric' : 'TotalF1:average=Macro',\n",
    "            'use_best_model': True,\n",
    "        }\n",
    "        return CatBoostClassifier(**params)\n",
    "\n",
    "    def training_step(self, train_data: Any, val_data: Any) -> None:\n",
    "        X_train, y_train = train_data\n",
    "        X_val, y_val = val_data\n",
    "        self.model.fit(X_train, y_train, early_stopping_rounds=100, verbose=0, eval_set=[(X_val, y_val)])\n",
    "\n",
    "    def predict_step(self, predict_data: Any) -> NDArray[Any]:\n",
    "        X_predict = predict_data\n",
    "        pred = self.model.predict(X_predict).reshape(-1)\n",
    "        return pred"
   ]
  },
  {
   "cell_type": "code",
   "execution_count": 40,
   "metadata": {
    "id": "UQr6rR5ay6Na"
   },
   "outputs": [],
   "source": [
    "catboost = CatBoostModel()"
   ]
  },
  {
   "cell_type": "code",
   "execution_count": 41,
   "metadata": {
    "colab": {
     "base_uri": "https://localhost:8080/"
    },
    "id": "abkZwLwOawTs",
    "outputId": "b9775d54-e22f-4c56-867a-3e4e77c7ae04"
   },
   "outputs": [
    {
     "name": "stdout",
     "output_type": "stream",
     "text": [
      "Type:  label-encoding  False-oversamping  Mean: 0.9595, Std: 0.0256\n",
      "Type:   label-encoding  True-oversamping  Mean: 0.9540, Std: 0.0256\n",
      "Type: onehot-encoding  False-oversamping  Mean: 0.9555, Std: 0.0263\n",
      "Type:  onehot-encoding  True-oversamping  Mean: 0.9538, Std: 0.0263\n",
      "CPU times: user 2min 1s, sys: 28.1 s, total: 2min 29s\n",
      "Wall time: 3min 5s\n"
     ]
    }
   ],
   "source": [
    "%%time\n",
    "compare_preprocessing(trainer, catboost, df, target, seeds)"
   ]
  },
  {
   "cell_type": "markdown",
   "metadata": {
    "id": "z96teP9EfNGM"
   },
   "source": [
    "- LGBMClassifier"
   ]
  },
  {
   "cell_type": "code",
   "execution_count": 42,
   "metadata": {
    "id": "bCXTAiDrgOJV"
   },
   "outputs": [],
   "source": [
    "def lgbm_macro_f1(y_true, y_pred):\n",
    "    num_data = len(y_true)\n",
    "    num_classes = len(np.unique(y_true))\n",
    "    y_pred = np.stack([y_pred[num_data*i : num_data*(i+1)] for i in range(num_classes)], axis=-1)\n",
    "    y_pred = y_pred.argmax(axis=-1)\n",
    "\n",
    "    eval_name = 'macro_f1'\n",
    "    eval_result = f1_score(y_true, y_pred, average='macro')\n",
    "    is_higher_better = True\n",
    "    return eval_name, eval_result, is_higher_better"
   ]
  },
  {
   "cell_type": "code",
   "execution_count": 43,
   "metadata": {
    "id": "vvUJTeizfPBl"
   },
   "outputs": [],
   "source": [
    "class LGBMModel(SklearnModel):\n",
    "    def init_model(self) -> Any:\n",
    "        params = {\n",
    "            'n_estimators': 1000,\n",
    "            'learning_rate': 0.05,\n",
    "            'random_state': SEED,\n",
    "        }\n",
    "        return LGBMClassifier(**params)\n",
    "\n",
    "    def training_step(self, train_data: Any, val_data: Any) -> None:\n",
    "        X_train, y_train = train_data\n",
    "        X_val, y_val = val_data\n",
    "        self.model.fit(X_train, y_train, early_stopping_rounds=100, verbose=0, eval_set=[(X_val, y_val)], eval_metric=lgbm_macro_f1)"
   ]
  },
  {
   "cell_type": "code",
   "execution_count": 44,
   "metadata": {
    "id": "VKc4AoaJy8lB"
   },
   "outputs": [],
   "source": [
    "lgbm = LGBMModel()"
   ]
  },
  {
   "cell_type": "code",
   "execution_count": 45,
   "metadata": {
    "colab": {
     "base_uri": "https://localhost:8080/"
    },
    "id": "Qxxej3q_a2Nb",
    "outputId": "9a161726-1974-4d7d-9c2a-ec96f9c0398b"
   },
   "outputs": [
    {
     "name": "stdout",
     "output_type": "stream",
     "text": [
      "Type:  label-encoding  False-oversamping  Mean: 0.9595, Std: 0.0242\n",
      "Type:   label-encoding  True-oversamping  Mean: 0.9589, Std: 0.0230\n",
      "Type: onehot-encoding  False-oversamping  Mean: 0.9574, Std: 0.0254\n",
      "Type:  onehot-encoding  True-oversamping  Mean: 0.9584, Std: 0.0251\n",
      "CPU times: user 5min 33s, sys: 9.5 s, total: 5min 42s\n",
      "Wall time: 3min 10s\n"
     ]
    }
   ],
   "source": [
    "%%time\n",
    "compare_preprocessing(trainer, lgbm, df, target, seeds)"
   ]
  },
  {
   "cell_type": "markdown",
   "metadata": {
    "id": "UiaoVnYQP4am"
   },
   "source": [
    "### 임계치 설정"
   ]
  },
  {
   "cell_type": "code",
   "execution_count": 46,
   "metadata": {
    "id": "yuCgNy2BSP-k"
   },
   "outputs": [],
   "source": [
    "all_train_preds = []"
   ]
  },
  {
   "cell_type": "markdown",
   "metadata": {
    "id": "fs6gPi-YP_42"
   },
   "source": [
    "- LinearSVC"
   ]
  },
  {
   "cell_type": "code",
   "execution_count": 47,
   "metadata": {
    "colab": {
     "base_uri": "https://localhost:8080/"
    },
    "id": "9Q5icaiZE5uq",
    "outputId": "4418aaa8-89c3-428f-e0d9-52bdd6f50a9f"
   },
   "outputs": [
    {
     "name": "stdout",
     "output_type": "stream",
     "text": [
      "Seed Ensemble Output -> Mean: 0.9607  Std: 0.0244\n"
     ]
    }
   ],
   "source": [
    "dataset = KFoldDataset(df, target, df, encoding_type='label', oversampling=False)\n",
    "_, preds = seed_ensemble(trainer, linear_svc, dataset, seeds)\n",
    "all_train_preds.append(preds)"
   ]
  },
  {
   "cell_type": "markdown",
   "metadata": {
    "id": "GARlHQblQKXN"
   },
   "source": [
    "- LogisticRegression"
   ]
  },
  {
   "cell_type": "code",
   "execution_count": 48,
   "metadata": {
    "colab": {
     "base_uri": "https://localhost:8080/"
    },
    "id": "Cr28KEaOJxUc",
    "outputId": "1b58aca3-601c-40c8-b200-3613d16eeb6c"
   },
   "outputs": [
    {
     "name": "stdout",
     "output_type": "stream",
     "text": [
      "Seed Ensemble Output -> Mean: 0.9606  Std: 0.0235\n"
     ]
    }
   ],
   "source": [
    "dataset = KFoldDataset(df, target, df, encoding_type='label', oversampling=False)\n",
    "_, preds = seed_ensemble(trainer, logistic, dataset, seeds)\n",
    "all_train_preds.append(preds)"
   ]
  },
  {
   "cell_type": "markdown",
   "metadata": {
    "id": "eNJ3P-atQMn1"
   },
   "source": [
    "- RidgeClassifier"
   ]
  },
  {
   "cell_type": "code",
   "execution_count": 49,
   "metadata": {
    "colab": {
     "base_uri": "https://localhost:8080/"
    },
    "id": "2hESp6Uft6_F",
    "outputId": "3d6f8c55-fc53-4758-f717-149b7f8e3566"
   },
   "outputs": [
    {
     "name": "stdout",
     "output_type": "stream",
     "text": [
      "Seed Ensemble Output -> Mean: 0.9574  Std: 0.0241\n"
     ]
    }
   ],
   "source": [
    "dataset = KFoldDataset(df, target, df, encoding_type='label', oversampling=False)\n",
    "_, preds = seed_ensemble(trainer, ridge, dataset, seeds)\n",
    "all_train_preds.append(preds)"
   ]
  },
  {
   "cell_type": "markdown",
   "metadata": {
    "id": "y_R4zYk6QRnd"
   },
   "source": [
    "- SGDClassifier"
   ]
  },
  {
   "cell_type": "code",
   "execution_count": 50,
   "metadata": {
    "colab": {
     "base_uri": "https://localhost:8080/"
    },
    "id": "OMY4C1A9uFiq",
    "outputId": "515b9068-74df-4e79-8b74-6cdd42d35945"
   },
   "outputs": [
    {
     "name": "stdout",
     "output_type": "stream",
     "text": [
      "Seed Ensemble Output -> Mean: 0.9553  Std: 0.0249\n"
     ]
    }
   ],
   "source": [
    "dataset = KFoldDataset(df, target, df, encoding_type='onehot', oversampling=False)\n",
    "_, preds = seed_ensemble(trainer, sgd, dataset, seeds)\n",
    "all_train_preds.append(preds)"
   ]
  },
  {
   "cell_type": "markdown",
   "metadata": {
    "id": "J_HE7pcFQY-1"
   },
   "source": [
    "- XGBClassifier"
   ]
  },
  {
   "cell_type": "code",
   "execution_count": 51,
   "metadata": {
    "colab": {
     "base_uri": "https://localhost:8080/"
    },
    "id": "WcqDPFK2u8qL",
    "outputId": "94d88fdb-e173-47fd-9507-394357e3799b"
   },
   "outputs": [
    {
     "name": "stdout",
     "output_type": "stream",
     "text": [
      "Seed Ensemble Output -> Mean: 0.9567  Std: 0.0261\n"
     ]
    }
   ],
   "source": [
    "dataset = KFoldDataset(df, target, df, encoding_type='label', oversampling=False)\n",
    "_, preds = seed_ensemble(trainer, xgboost, dataset, seeds)\n",
    "all_train_preds.append(preds)"
   ]
  },
  {
   "cell_type": "markdown",
   "metadata": {
    "id": "j3frGTspQZr0"
   },
   "source": [
    "- CatBoostClassifier"
   ]
  },
  {
   "cell_type": "code",
   "execution_count": 52,
   "metadata": {
    "colab": {
     "base_uri": "https://localhost:8080/"
    },
    "id": "J2PICbBt2rQ1",
    "outputId": "397fbe8b-5584-4c8d-8ca4-a2e1056d3d8b"
   },
   "outputs": [
    {
     "name": "stdout",
     "output_type": "stream",
     "text": [
      "Seed Ensemble Output -> Mean: 0.9595  Std: 0.0256\n"
     ]
    }
   ],
   "source": [
    "dataset = KFoldDataset(df, target, df, encoding_type='label', oversampling=False)\n",
    "_, preds = seed_ensemble(trainer, catboost, dataset, seeds)\n",
    "all_train_preds.append(preds)"
   ]
  },
  {
   "cell_type": "markdown",
   "metadata": {
    "id": "wVPEd0QJQeHV"
   },
   "source": [
    "- LGBMClassifier"
   ]
  },
  {
   "cell_type": "code",
   "execution_count": 53,
   "metadata": {
    "colab": {
     "base_uri": "https://localhost:8080/"
    },
    "id": "JodQCyf0FHqz",
    "outputId": "edcdc25d-129d-495f-fa8b-59b29a1ef7bc"
   },
   "outputs": [
    {
     "name": "stdout",
     "output_type": "stream",
     "text": [
      "Seed Ensemble Output -> Mean: 0.9595  Std: 0.0242\n"
     ]
    }
   ],
   "source": [
    "dataset = KFoldDataset(df, target, df, encoding_type='label', oversampling=False)\n",
    "_, preds = seed_ensemble(trainer, lgbm, dataset, seeds)\n",
    "all_train_preds.append(preds)"
   ]
  },
  {
   "cell_type": "markdown",
   "metadata": {
    "id": "vBhbtIFna5Dx"
   },
   "source": [
    "- Hard Voting"
   ]
  },
  {
   "cell_type": "code",
   "execution_count": 54,
   "metadata": {
    "id": "KZ9Fv4DNVPoz"
   },
   "outputs": [],
   "source": [
    "def hard_voting(all_preds, threshold):\n",
    "    preds = []\n",
    "    for all_pred in all_preds:\n",
    "        p = stats.mode(all_pred)[0]\n",
    "        counts = stats.mode(all_pred)[1]\n",
    "        if p == 0:\n",
    "            preds.append(0)\n",
    "        elif p == 1 and counts >= threshold:\n",
    "            preds.append(1)\n",
    "        else:\n",
    "            preds.append(2)\n",
    "    return preds"
   ]
  },
  {
   "cell_type": "code",
   "execution_count": 55,
   "metadata": {
    "id": "Y1grl4wBFOJK"
   },
   "outputs": [],
   "source": [
    "train_preds = np.concatenate(all_train_preds, axis=-1)"
   ]
  },
  {
   "cell_type": "code",
   "execution_count": 56,
   "metadata": {
    "id": "uxR3QPQtGKh0"
   },
   "outputs": [],
   "source": [
    "count = stats.mode(train_preds, 1)[1].reshape(-1)\n",
    "label = stats.mode(train_preds, 1)[0].reshape(-1)"
   ]
  },
  {
   "cell_type": "code",
   "execution_count": 57,
   "metadata": {
    "colab": {
     "base_uri": "https://localhost:8080/",
     "height": 265
    },
    "id": "dBauGdqbGNNR",
    "outputId": "638861c7-5190-4e9a-8d0b-a0eed0181276"
   },
   "outputs": [
    {
     "data": {
      "image/png": "[encoded data removed]",
      "text/plain": [
       "<Figure size 432x288 with 1 Axes>"
      ]
     },
     "metadata": {
      "needs_background": "light"
     },
     "output_type": "display_data"
    }
   ],
   "source": [
    "plt.boxplot(count[label == 1])\n",
    "plt.show()"
   ]
  },
  {
   "cell_type": "code",
   "execution_count": 58,
   "metadata": {
    "colab": {
     "base_uri": "https://localhost:8080/"
    },
    "id": "z_eCuUp1GTVK",
    "outputId": "96d179fd-1c9c-40b1-ff6f-7148fcccedef"
   },
   "outputs": [
    {
     "name": "stdout",
     "output_type": "stream",
     "text": [
      "525: 0.9748\n",
      "700: 0.9786\n",
      "850: 0.9751\n",
      "900: 0.9681\n"
     ]
    }
   ],
   "source": [
    "thresholds = [525, 700, 850, 900]\n",
    "for threshold in thresholds:\n",
    "    score = f1_score(target, hard_voting(train_preds, threshold=threshold), average='macro')\n",
    "    print(f'{threshold}: {score:.4f}')"
   ]
  },
  {
   "cell_type": "markdown",
   "metadata": {
    "id": "O3vhrUg_CHTP"
   },
   "source": [
    "`-` $\\frac{4}{5}$는 훈련데이터, $\\frac{4}{5}$은 검증데이터\n",
    "\n",
    "`-` 평균적으로 $n$개 예측치 중 대략 $\\frac{4}{5}n$은 제대로 예측했을 것"
   ]
  },
  {
   "cell_type": "markdown",
   "metadata": {
    "id": "V2E-pvyhB3OP"
   },
   "source": [
    "`-` 임계치를 700, 850, 900으로 설정\n",
    "\n",
    "`-` 훈련데이터가 80%이므로 임계치를 850, 900으로 설정하여 나온 2개의 결과물을 제출함"
   ]
  },
  {
   "cell_type": "markdown",
   "metadata": {
    "id": "6jCRe45BQhV9"
   },
   "source": [
    "## 예측"
   ]
  },
  {
   "cell_type": "code",
   "execution_count": 59,
   "metadata": {
    "id": "bmzQ6cEBSVtk"
   },
   "outputs": [],
   "source": [
    "all_test_preds = []"
   ]
  },
  {
   "cell_type": "markdown",
   "metadata": {
    "id": "sa0AnwKcQi09"
   },
   "source": [
    "- LinearSVC"
   ]
  },
  {
   "cell_type": "code",
   "execution_count": 60,
   "metadata": {
    "colab": {
     "base_uri": "https://localhost:8080/"
    },
    "id": "nhtlv8Q2QwEd",
    "outputId": "a4856488-641d-4c80-a761-c73e7b63991e"
   },
   "outputs": [
    {
     "name": "stdout",
     "output_type": "stream",
     "text": [
      "Seed Ensemble Output -> Mean: 0.9607  Std: 0.0244\n"
     ]
    }
   ],
   "source": [
    "dataset = KFoldDataset(df, target, test, encoding_type='label', oversampling=False)\n",
    "_, preds = seed_ensemble(trainer, linear_svc, dataset, seeds)\n",
    "all_test_preds.append(preds)"
   ]
  },
  {
   "cell_type": "markdown",
   "metadata": {
    "id": "vpa7NbgpQl19"
   },
   "source": [
    "- LogisticRegression"
   ]
  },
  {
   "cell_type": "code",
   "execution_count": 61,
   "metadata": {
    "colab": {
     "base_uri": "https://localhost:8080/"
    },
    "id": "XqLQCbKFQx3s",
    "outputId": "c0d36cc4-f65b-4b31-f95b-3068be2c0779"
   },
   "outputs": [
    {
     "name": "stdout",
     "output_type": "stream",
     "text": [
      "Seed Ensemble Output -> Mean: 0.9606  Std: 0.0235\n"
     ]
    }
   ],
   "source": [
    "dataset = KFoldDataset(df, target, test, encoding_type='label', oversampling=False)\n",
    "_, preds = seed_ensemble(trainer, logistic, dataset, seeds)\n",
    "all_test_preds.append(preds)"
   ]
  },
  {
   "cell_type": "markdown",
   "metadata": {
    "id": "B68O8OdHQmQ1"
   },
   "source": [
    "- RidgeClassifier"
   ]
  },
  {
   "cell_type": "code",
   "execution_count": 62,
   "metadata": {
    "colab": {
     "base_uri": "https://localhost:8080/"
    },
    "id": "TzVMFGAuJ4db",
    "outputId": "7cd82f5c-e925-414e-cdff-bfcfad13a8ae"
   },
   "outputs": [
    {
     "name": "stdout",
     "output_type": "stream",
     "text": [
      "Seed Ensemble Output -> Mean: 0.9574  Std: 0.0241\n"
     ]
    }
   ],
   "source": [
    "dataset = KFoldDataset(df, target, test, encoding_type='label', oversampling=False)\n",
    "_, preds = seed_ensemble(trainer, ridge, dataset, seeds)\n",
    "all_test_preds.append(preds)"
   ]
  },
  {
   "cell_type": "markdown",
   "metadata": {
    "id": "0bBA1dj6Qn1F"
   },
   "source": [
    "- SGDClassifier"
   ]
  },
  {
   "cell_type": "code",
   "execution_count": 63,
   "metadata": {
    "colab": {
     "base_uri": "https://localhost:8080/"
    },
    "id": "jzSfvMuLJ-KN",
    "outputId": "66d4a779-efb2-4921-f756-b77b24e2b702"
   },
   "outputs": [
    {
     "name": "stdout",
     "output_type": "stream",
     "text": [
      "Seed Ensemble Output -> Mean: 0.9553  Std: 0.0249\n"
     ]
    }
   ],
   "source": [
    "dataset = KFoldDataset(df, target, test, encoding_type='onehot', oversampling=False)\n",
    "_, preds = seed_ensemble(trainer, sgd, dataset, seeds)\n",
    "all_test_preds.append(preds)"
   ]
  },
  {
   "cell_type": "markdown",
   "metadata": {
    "id": "D2vZF0F0Qpr1"
   },
   "source": [
    "- XGBClassifier"
   ]
  },
  {
   "cell_type": "code",
   "execution_count": 64,
   "metadata": {
    "colab": {
     "base_uri": "https://localhost:8080/"
    },
    "id": "3haUUBx3KCZR",
    "outputId": "fc54dbeb-6af3-4cae-93a6-57b84d0004d4"
   },
   "outputs": [
    {
     "name": "stdout",
     "output_type": "stream",
     "text": [
      "Seed Ensemble Output -> Mean: 0.9567  Std: 0.0261\n"
     ]
    }
   ],
   "source": [
    "dataset = KFoldDataset(df, target, test, encoding_type='label', oversampling=False)\n",
    "_, preds = seed_ensemble(trainer, xgboost, dataset, seeds)\n",
    "all_test_preds.append(preds)"
   ]
  },
  {
   "cell_type": "markdown",
   "metadata": {
    "id": "WA3zUxHQQq_1"
   },
   "source": [
    "- CatBoostClassifier"
   ]
  },
  {
   "cell_type": "code",
   "execution_count": 65,
   "metadata": {
    "colab": {
     "base_uri": "https://localhost:8080/"
    },
    "id": "p22IIp0KKG8M",
    "outputId": "2a1fb04b-f536-4d60-a2d5-12c5d47e8248"
   },
   "outputs": [
    {
     "name": "stdout",
     "output_type": "stream",
     "text": [
      "Seed Ensemble Output -> Mean: 0.9595  Std: 0.0256\n"
     ]
    }
   ],
   "source": [
    "dataset = KFoldDataset(df, target, test, encoding_type='label', oversampling=False)\n",
    "_, preds = seed_ensemble(trainer, catboost, dataset, seeds)\n",
    "all_test_preds.append(preds)"
   ]
  },
  {
   "cell_type": "markdown",
   "metadata": {
    "id": "pozLZOe8QtR1"
   },
   "source": [
    "- LGBMClassifier"
   ]
  },
  {
   "cell_type": "code",
   "execution_count": 66,
   "metadata": {
    "colab": {
     "base_uri": "https://localhost:8080/"
    },
    "id": "OqaihTNEKKw9",
    "outputId": "a673b9df-31ab-44cc-bce0-aff5fd0e04d9"
   },
   "outputs": [
    {
     "name": "stdout",
     "output_type": "stream",
     "text": [
      "Seed Ensemble Output -> Mean: 0.9595  Std: 0.0242\n"
     ]
    }
   ],
   "source": [
    "dataset = KFoldDataset(df, target, test, encoding_type='label', oversampling=False)\n",
    "_, preds = seed_ensemble(trainer, lgbm, dataset, seeds)\n",
    "all_test_preds.append(preds)"
   ]
  },
  {
   "cell_type": "markdown",
   "metadata": {
    "id": "6jyYg5Opbjvm"
   },
   "source": [
    "- 예측"
   ]
  },
  {
   "cell_type": "code",
   "execution_count": 67,
   "metadata": {
    "id": "zyYmCws7ugin"
   },
   "outputs": [],
   "source": [
    "test_preds = np.concatenate(all_test_preds, axis=-1)"
   ]
  },
  {
   "cell_type": "code",
   "execution_count": 69,
   "metadata": {
    "id": "Xf-Tz8TDxgA_"
   },
   "outputs": [],
   "source": [
    "preds_850 = hard_voting(test_preds, threshold=850)\n",
    "preds_900 = hard_voting(test_preds, threshold=900)"
   ]
  },
  {
   "cell_type": "code",
   "execution_count": 70,
   "metadata": {
    "id": "w1GPNhWWxN2A"
   },
   "outputs": [],
   "source": [
    "submission['class'] = preds_850\n",
    "submission['class'] = submission['class'].map({0:'A', 1:'B', 2:'C'})\n",
    "submission.to_csv('./data/submission-850.csv', index=False)  "
   ]
  },
  {
   "cell_type": "code",
   "execution_count": 71,
   "metadata": {
    "id": "kbO2Shwvjxob"
   },
   "outputs": [],
   "source": [
    "submission['class'] = preds_900\n",
    "submission['class'] = submission['class'].map({0:'A', 1:'B', 2:'C'})\n",
    "submission.to_csv('./data/submission-900.csv', index=False)  "
   ]
  },
  {
   "cell_type": "code",
   "execution_count": null,
   "metadata": {
    "id": "CmBkpEyctsBY"
   },
   "outputs": [],
   "source": []
  }
 ],
 "metadata": {
  "colab": {
   "include_colab_link": true,
   "provenance": [],
   "toc_visible": true
  },
  "gpuClass": "standard",
  "kernelspec": {
   "display_name": "Python 3 (ipykernel)",
   "language": "python",
   "name": "python3"
  },
  "language_info": {
   "codemirror_mode": {
    "name": "ipython",
    "version": 3
   },
   "file_extension": ".py",
   "mimetype": "text/x-python",
   "name": "python",
   "nbconvert_exporter": "python",
   "pygments_lexer": "ipython3",
   "version": "3.8.11"
  }
 },
 "nbformat": 4,
 "nbformat_minor": 4
}
